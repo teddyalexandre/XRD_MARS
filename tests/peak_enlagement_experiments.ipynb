{
 "cells": [
  {
   "cell_type": "code",
   "execution_count": 93,
   "id": "initial_id",
   "metadata": {
    "tags": [],
    "ExecuteTime": {
     "end_time": "2023-08-23T10:20:26.004432940Z",
     "start_time": "2023-08-23T10:20:25.969286350Z"
    }
   },
   "outputs": [],
   "source": [
    "import matplotlib.pyplot as plt\n",
    "import numpy as np\n",
    "from mp_api.client import MPRester\n",
    "import pandas as pd\n",
    "from joblib import Parallel, delayed\n",
    "from pymatgen.symmetry.analyzer import SpacegroupAnalyzer"
   ]
  },
  {
   "cell_type": "code",
   "execution_count": 94,
   "id": "6b2d9557a083775b",
   "metadata": {
    "collapsed": false,
    "tags": [],
    "ExecuteTime": {
     "end_time": "2023-08-23T10:20:27.201238590Z",
     "start_time": "2023-08-23T10:20:27.167905330Z"
    }
   },
   "outputs": [],
   "source": [
    "api_anass = \"bo70Q5XVKyZdImV77bFXHO2cDKdvVQ6F\""
   ]
  },
  {
   "cell_type": "code",
   "execution_count": 95,
   "id": "5a0a8e47ccda1a73",
   "metadata": {
    "collapsed": false,
    "tags": [],
    "ExecuteTime": {
     "end_time": "2023-08-23T10:20:29.070181760Z",
     "start_time": "2023-08-23T10:20:29.039890890Z"
    }
   },
   "outputs": [],
   "source": [
    "from utils import calculate_xrd_from_cif, Voigt\n",
    "import glob"
   ]
  },
  {
   "cell_type": "code",
   "execution_count": 96,
   "id": "bfa4787c3595ff8f",
   "metadata": {
    "collapsed": false,
    "tags": [],
    "ExecuteTime": {
     "end_time": "2023-08-23T10:20:30.565918600Z",
     "start_time": "2023-08-23T10:20:30.310992520Z"
    }
   },
   "outputs": [],
   "source": [
    "files_cif = glob.glob(\"./data/cif_files/*.cif\")"
   ]
  },
  {
   "cell_type": "code",
   "execution_count": 97,
   "id": "c8af0ad7e0be1c91",
   "metadata": {
    "collapsed": false,
    "tags": [],
    "ExecuteTime": {
     "end_time": "2023-08-23T10:20:35.422033010Z",
     "start_time": "2023-08-23T10:20:33.399689640Z"
    }
   },
   "outputs": [],
   "source": [
    "import os\n",
    "# Removes the previous parquet file if it exists\n",
    "try:\n",
    "    os.remove(\"./data/pow_xrd.parquet\")\n",
    "except Exception as e:\n",
    "    pass"
   ]
  },
  {
   "cell_type": "code",
   "execution_count": 98,
   "outputs": [],
   "source": [
    "f = files_cif[8]"
   ],
   "metadata": {
    "collapsed": false,
    "ExecuteTime": {
     "end_time": "2023-08-23T10:20:38.223307260Z",
     "start_time": "2023-08-23T10:20:38.192568900Z"
    }
   },
   "id": "f791498d2c34487"
  },
  {
   "cell_type": "code",
   "execution_count": 106,
   "outputs": [],
   "source": [
    "signal = calculate_xrd_from_cif(f, 5.0, 0.721)"
   ],
   "metadata": {
    "collapsed": false,
    "ExecuteTime": {
     "end_time": "2023-08-23T10:22:25.628718390Z",
     "start_time": "2023-08-23T10:22:21.359712990Z"
    }
   },
   "id": "a6f42e78e863fa60"
  },
  {
   "cell_type": "code",
   "execution_count": 107,
   "outputs": [],
   "source": [
    "angles = signal[\"Angles\"]\n",
    "intensities = signal[\"Intensities\"]"
   ],
   "metadata": {
    "collapsed": false,
    "ExecuteTime": {
     "end_time": "2023-08-23T10:22:31.541274020Z",
     "start_time": "2023-08-23T10:22:23.441947470Z"
    }
   },
   "id": "6f5a57e6bc2bbdb6"
  },
  {
   "cell_type": "code",
   "execution_count": 108,
   "outputs": [
    {
     "data": {
      "text/plain": "[<matplotlib.lines.Line2D at 0x7fb5186a6d70>]"
     },
     "execution_count": 108,
     "metadata": {},
     "output_type": "execute_result"
    },
    {
     "data": {
      "text/plain": "<Figure size 640x480 with 1 Axes>",
      "image/png": "[encoded data removed]"
     },
     "metadata": {},
     "output_type": "display_data"
    }
   ],
   "source": [
    "plt.plot(angles, intensities)"
   ],
   "metadata": {
    "collapsed": false,
    "ExecuteTime": {
     "end_time": "2023-08-23T10:22:35.185089980Z",
     "start_time": "2023-08-23T10:22:27.890985710Z"
    }
   },
   "id": "8ef143ebedb40038"
  },
  {
   "cell_type": "code",
   "execution_count": 110,
   "outputs": [
    {
     "name": "stderr",
     "output_type": "stream",
     "text": [
      "/home/experiences/grades/bellachehab/anaconda3/envs/XRD/lib/python3.10/site-packages/pymatgen/io/cif.py:1168: UserWarning: Issues encountered while parsing CIF: Some fractional coordinates rounded to ideal values to avoid issues with finite precision.\n",
      "  warnings.warn(\"Issues encountered while parsing CIF: \" + \"\\n\".join(self.warnings))\n",
      "/home/experiences/grades/bellachehab/anaconda3/envs/XRD/lib/python3.10/site-packages/pymatgen/io/cif.py:1168: UserWarning: Issues encountered while parsing CIF: Some fractional coordinates rounded to ideal values to avoid issues with finite precision.\n",
      "  warnings.warn(\"Issues encountered while parsing CIF: \" + \"\\n\".join(self.warnings))\n",
      "/home/experiences/grades/bellachehab/anaconda3/envs/XRD/lib/python3.10/site-packages/pymatgen/io/cif.py:1168: UserWarning: Issues encountered while parsing CIF: Some fractional coordinates rounded to ideal values to avoid issues with finite precision.\n",
      "  warnings.warn(\"Issues encountered while parsing CIF: \" + \"\\n\".join(self.warnings))\n",
      "/home/experiences/grades/bellachehab/anaconda3/envs/XRD/lib/python3.10/site-packages/pymatgen/io/cif.py:1168: UserWarning: Issues encountered while parsing CIF: Some fractional coordinates rounded to ideal values to avoid issues with finite precision.\n",
      "  warnings.warn(\"Issues encountered while parsing CIF: \" + \"\\n\".join(self.warnings))\n",
      "/home/experiences/grades/bellachehab/anaconda3/envs/XRD/lib/python3.10/site-packages/pymatgen/io/cif.py:1168: UserWarning: Issues encountered while parsing CIF: Some fractional coordinates rounded to ideal values to avoid issues with finite precision.\n",
      "  warnings.warn(\"Issues encountered while parsing CIF: \" + \"\\n\".join(self.warnings))\n",
      "/home/experiences/grades/bellachehab/anaconda3/envs/XRD/lib/python3.10/site-packages/pymatgen/io/cif.py:1168: UserWarning: Issues encountered while parsing CIF: Some fractional coordinates rounded to ideal values to avoid issues with finite precision.\n",
      "  warnings.warn(\"Issues encountered while parsing CIF: \" + \"\\n\".join(self.warnings))\n",
      "/home/experiences/grades/bellachehab/anaconda3/envs/XRD/lib/python3.10/site-packages/pymatgen/io/cif.py:1168: UserWarning: Issues encountered while parsing CIF: Some fractional coordinates rounded to ideal values to avoid issues with finite precision.\n",
      "  warnings.warn(\"Issues encountered while parsing CIF: \" + \"\\n\".join(self.warnings))\n",
      "/home/experiences/grades/bellachehab/anaconda3/envs/XRD/lib/python3.10/site-packages/pymatgen/io/cif.py:1168: UserWarning: Issues encountered while parsing CIF: Some fractional coordinates rounded to ideal values to avoid issues with finite precision.\n",
      "  warnings.warn(\"Issues encountered while parsing CIF: \" + \"\\n\".join(self.warnings))\n",
      "/home/experiences/grades/bellachehab/anaconda3/envs/XRD/lib/python3.10/site-packages/pymatgen/io/cif.py:1168: UserWarning: Issues encountered while parsing CIF: Some fractional coordinates rounded to ideal values to avoid issues with finite precision.\n",
      "  warnings.warn(\"Issues encountered while parsing CIF: \" + \"\\n\".join(self.warnings))\n",
      "/home/experiences/grades/bellachehab/anaconda3/envs/XRD/lib/python3.10/site-packages/pymatgen/io/cif.py:1168: UserWarning: Issues encountered while parsing CIF: Some fractional coordinates rounded to ideal values to avoid issues with finite precision.\n",
      "  warnings.warn(\"Issues encountered while parsing CIF: \" + \"\\n\".join(self.warnings))\n",
      "/home/experiences/grades/bellachehab/anaconda3/envs/XRD/lib/python3.10/site-packages/pymatgen/io/cif.py:1168: UserWarning: Issues encountered while parsing CIF: Some fractional coordinates rounded to ideal values to avoid issues with finite precision.\n",
      "  warnings.warn(\"Issues encountered while parsing CIF: \" + \"\\n\".join(self.warnings))\n",
      "/home/experiences/grades/bellachehab/anaconda3/envs/XRD/lib/python3.10/site-packages/pymatgen/io/cif.py:1168: UserWarning: Issues encountered while parsing CIF: Some fractional coordinates rounded to ideal values to avoid issues with finite precision.\n",
      "  warnings.warn(\"Issues encountered while parsing CIF: \" + \"\\n\".join(self.warnings))\n",
      "/home/experiences/grades/bellachehab/anaconda3/envs/XRD/lib/python3.10/site-packages/pymatgen/io/cif.py:1168: UserWarning: Issues encountered while parsing CIF: Some fractional coordinates rounded to ideal values to avoid issues with finite precision.\n",
      "  warnings.warn(\"Issues encountered while parsing CIF: \" + \"\\n\".join(self.warnings))\n",
      "/home/experiences/grades/bellachehab/anaconda3/envs/XRD/lib/python3.10/site-packages/pymatgen/io/cif.py:1168: UserWarning: Issues encountered while parsing CIF: Some fractional coordinates rounded to ideal values to avoid issues with finite precision.\n",
      "  warnings.warn(\"Issues encountered while parsing CIF: \" + \"\\n\".join(self.warnings))\n",
      "/home/experiences/grades/bellachehab/anaconda3/envs/XRD/lib/python3.10/site-packages/pymatgen/io/cif.py:1168: UserWarning: Issues encountered while parsing CIF: Some fractional coordinates rounded to ideal values to avoid issues with finite precision.\n",
      "  warnings.warn(\"Issues encountered while parsing CIF: \" + \"\\n\".join(self.warnings))\n",
      "/home/experiences/grades/bellachehab/anaconda3/envs/XRD/lib/python3.10/site-packages/pymatgen/io/cif.py:1168: UserWarning: Issues encountered while parsing CIF: Some fractional coordinates rounded to ideal values to avoid issues with finite precision.\n",
      "  warnings.warn(\"Issues encountered while parsing CIF: \" + \"\\n\".join(self.warnings))\n",
      "/home/experiences/grades/bellachehab/anaconda3/envs/XRD/lib/python3.10/site-packages/pymatgen/io/cif.py:1168: UserWarning: Issues encountered while parsing CIF: Some fractional coordinates rounded to ideal values to avoid issues with finite precision.\n",
      "  warnings.warn(\"Issues encountered while parsing CIF: \" + \"\\n\".join(self.warnings))\n",
      "/home/experiences/grades/bellachehab/anaconda3/envs/XRD/lib/python3.10/site-packages/pymatgen/io/cif.py:1168: UserWarning: Issues encountered while parsing CIF: Some fractional coordinates rounded to ideal values to avoid issues with finite precision.\n",
      "  warnings.warn(\"Issues encountered while parsing CIF: \" + \"\\n\".join(self.warnings))\n",
      "/home/experiences/grades/bellachehab/anaconda3/envs/XRD/lib/python3.10/site-packages/pymatgen/io/cif.py:1168: UserWarning: Issues encountered while parsing CIF: Some fractional coordinates rounded to ideal values to avoid issues with finite precision.\n",
      "  warnings.warn(\"Issues encountered while parsing CIF: \" + \"\\n\".join(self.warnings))\n",
      "/home/experiences/grades/bellachehab/anaconda3/envs/XRD/lib/python3.10/site-packages/pymatgen/io/cif.py:1168: UserWarning: Issues encountered while parsing CIF: Some fractional coordinates rounded to ideal values to avoid issues with finite precision.\n",
      "  warnings.warn(\"Issues encountered while parsing CIF: \" + \"\\n\".join(self.warnings))\n",
      "/home/experiences/grades/bellachehab/anaconda3/envs/XRD/lib/python3.10/site-packages/pymatgen/io/cif.py:1168: UserWarning: Issues encountered while parsing CIF: Some fractional coordinates rounded to ideal values to avoid issues with finite precision.\n",
      "  warnings.warn(\"Issues encountered while parsing CIF: \" + \"\\n\".join(self.warnings))\n",
      "/home/experiences/grades/bellachehab/anaconda3/envs/XRD/lib/python3.10/site-packages/pymatgen/io/cif.py:1168: UserWarning: Issues encountered while parsing CIF: Some fractional coordinates rounded to ideal values to avoid issues with finite precision.\n",
      "  warnings.warn(\"Issues encountered while parsing CIF: \" + \"\\n\".join(self.warnings))\n",
      "/home/experiences/grades/bellachehab/anaconda3/envs/XRD/lib/python3.10/site-packages/pymatgen/io/cif.py:1168: UserWarning: Issues encountered while parsing CIF: Some fractional coordinates rounded to ideal values to avoid issues with finite precision.\n",
      "  warnings.warn(\"Issues encountered while parsing CIF: \" + \"\\n\".join(self.warnings))\n",
      "/home/experiences/grades/bellachehab/anaconda3/envs/XRD/lib/python3.10/site-packages/pymatgen/io/cif.py:1168: UserWarning: Issues encountered while parsing CIF: Some fractional coordinates rounded to ideal values to avoid issues with finite precision.\n",
      "  warnings.warn(\"Issues encountered while parsing CIF: \" + \"\\n\".join(self.warnings))\n",
      "/home/experiences/grades/bellachehab/anaconda3/envs/XRD/lib/python3.10/site-packages/pymatgen/io/cif.py:1168: UserWarning: Issues encountered while parsing CIF: Some fractional coordinates rounded to ideal values to avoid issues with finite precision.\n",
      "  warnings.warn(\"Issues encountered while parsing CIF: \" + \"\\n\".join(self.warnings))\n",
      "/home/experiences/grades/bellachehab/anaconda3/envs/XRD/lib/python3.10/site-packages/pymatgen/io/cif.py:1168: UserWarning: Issues encountered while parsing CIF: Some fractional coordinates rounded to ideal values to avoid issues with finite precision.\n",
      "  warnings.warn(\"Issues encountered while parsing CIF: \" + \"\\n\".join(self.warnings))\n",
      "/home/experiences/grades/bellachehab/anaconda3/envs/XRD/lib/python3.10/site-packages/pymatgen/io/cif.py:1168: UserWarning: Issues encountered while parsing CIF: Some fractional coordinates rounded to ideal values to avoid issues with finite precision.\n",
      "  warnings.warn(\"Issues encountered while parsing CIF: \" + \"\\n\".join(self.warnings))\n",
      "/home/experiences/grades/bellachehab/anaconda3/envs/XRD/lib/python3.10/site-packages/pymatgen/io/cif.py:1168: UserWarning: Issues encountered while parsing CIF: Some fractional coordinates rounded to ideal values to avoid issues with finite precision.\n",
      "  warnings.warn(\"Issues encountered while parsing CIF: \" + \"\\n\".join(self.warnings))\n",
      "/home/experiences/grades/bellachehab/anaconda3/envs/XRD/lib/python3.10/site-packages/pymatgen/io/cif.py:1168: UserWarning: Issues encountered while parsing CIF: Some fractional coordinates rounded to ideal values to avoid issues with finite precision.\n",
      "  warnings.warn(\"Issues encountered while parsing CIF: \" + \"\\n\".join(self.warnings))\n",
      "/home/experiences/grades/bellachehab/anaconda3/envs/XRD/lib/python3.10/site-packages/pymatgen/io/cif.py:1168: UserWarning: Issues encountered while parsing CIF: Some fractional coordinates rounded to ideal values to avoid issues with finite precision.\n",
      "  warnings.warn(\"Issues encountered while parsing CIF: \" + \"\\n\".join(self.warnings))\n",
      "/home/experiences/grades/bellachehab/anaconda3/envs/XRD/lib/python3.10/site-packages/pymatgen/io/cif.py:1168: UserWarning: Issues encountered while parsing CIF: Some fractional coordinates rounded to ideal values to avoid issues with finite precision.\n",
      "  warnings.warn(\"Issues encountered while parsing CIF: \" + \"\\n\".join(self.warnings))\n",
      "/home/experiences/grades/bellachehab/anaconda3/envs/XRD/lib/python3.10/site-packages/pymatgen/io/cif.py:1168: UserWarning: Issues encountered while parsing CIF: Some fractional coordinates rounded to ideal values to avoid issues with finite precision.\n",
      "  warnings.warn(\"Issues encountered while parsing CIF: \" + \"\\n\".join(self.warnings))\n",
      "/home/experiences/grades/bellachehab/anaconda3/envs/XRD/lib/python3.10/site-packages/pymatgen/io/cif.py:1168: UserWarning: Issues encountered while parsing CIF: Some fractional coordinates rounded to ideal values to avoid issues with finite precision.\n",
      "  warnings.warn(\"Issues encountered while parsing CIF: \" + \"\\n\".join(self.warnings))\n",
      "/home/experiences/grades/bellachehab/anaconda3/envs/XRD/lib/python3.10/site-packages/pymatgen/io/cif.py:1168: UserWarning: Issues encountered while parsing CIF: Some fractional coordinates rounded to ideal values to avoid issues with finite precision.\n",
      "  warnings.warn(\"Issues encountered while parsing CIF: \" + \"\\n\".join(self.warnings))\n",
      "/home/experiences/grades/bellachehab/anaconda3/envs/XRD/lib/python3.10/site-packages/pymatgen/io/cif.py:1168: UserWarning: Issues encountered while parsing CIF: Some fractional coordinates rounded to ideal values to avoid issues with finite precision.\n",
      "  warnings.warn(\"Issues encountered while parsing CIF: \" + \"\\n\".join(self.warnings))\n",
      "/home/experiences/grades/bellachehab/anaconda3/envs/XRD/lib/python3.10/site-packages/pymatgen/io/cif.py:1168: UserWarning: Issues encountered while parsing CIF: Some fractional coordinates rounded to ideal values to avoid issues with finite precision.\n",
      "  warnings.warn(\"Issues encountered while parsing CIF: \" + \"\\n\".join(self.warnings))\n",
      "/home/experiences/grades/bellachehab/anaconda3/envs/XRD/lib/python3.10/site-packages/pymatgen/io/cif.py:1168: UserWarning: Issues encountered while parsing CIF: Some fractional coordinates rounded to ideal values to avoid issues with finite precision.\n",
      "  warnings.warn(\"Issues encountered while parsing CIF: \" + \"\\n\".join(self.warnings))\n",
      "/home/experiences/grades/bellachehab/anaconda3/envs/XRD/lib/python3.10/site-packages/pymatgen/io/cif.py:1168: UserWarning: Issues encountered while parsing CIF: Some fractional coordinates rounded to ideal values to avoid issues with finite precision.\n",
      "  warnings.warn(\"Issues encountered while parsing CIF: \" + \"\\n\".join(self.warnings))\n",
      "/home/experiences/grades/bellachehab/anaconda3/envs/XRD/lib/python3.10/site-packages/pymatgen/io/cif.py:1168: UserWarning: Issues encountered while parsing CIF: Some fractional coordinates rounded to ideal values to avoid issues with finite precision.\n",
      "  warnings.warn(\"Issues encountered while parsing CIF: \" + \"\\n\".join(self.warnings))\n",
      "/home/experiences/grades/bellachehab/anaconda3/envs/XRD/lib/python3.10/site-packages/pymatgen/io/cif.py:1168: UserWarning: Issues encountered while parsing CIF: Some fractional coordinates rounded to ideal values to avoid issues with finite precision.\n",
      "  warnings.warn(\"Issues encountered while parsing CIF: \" + \"\\n\".join(self.warnings))\n",
      "/home/experiences/grades/bellachehab/anaconda3/envs/XRD/lib/python3.10/site-packages/pymatgen/io/cif.py:1168: UserWarning: Issues encountered while parsing CIF: Some fractional coordinates rounded to ideal values to avoid issues with finite precision.\n",
      "  warnings.warn(\"Issues encountered while parsing CIF: \" + \"\\n\".join(self.warnings))\n",
      "/home/experiences/grades/bellachehab/anaconda3/envs/XRD/lib/python3.10/site-packages/pymatgen/io/cif.py:1168: UserWarning: Issues encountered while parsing CIF: Some fractional coordinates rounded to ideal values to avoid issues with finite precision.\n",
      "  warnings.warn(\"Issues encountered while parsing CIF: \" + \"\\n\".join(self.warnings))\n",
      "/home/experiences/grades/bellachehab/anaconda3/envs/XRD/lib/python3.10/site-packages/pymatgen/io/cif.py:1168: UserWarning: Issues encountered while parsing CIF: Some fractional coordinates rounded to ideal values to avoid issues with finite precision.\n",
      "  warnings.warn(\"Issues encountered while parsing CIF: \" + \"\\n\".join(self.warnings))\n",
      "/home/experiences/grades/bellachehab/anaconda3/envs/XRD/lib/python3.10/site-packages/pymatgen/io/cif.py:1168: UserWarning: Issues encountered while parsing CIF: Some fractional coordinates rounded to ideal values to avoid issues with finite precision.\n",
      "  warnings.warn(\"Issues encountered while parsing CIF: \" + \"\\n\".join(self.warnings))\n",
      "/home/experiences/grades/bellachehab/anaconda3/envs/XRD/lib/python3.10/site-packages/pymatgen/io/cif.py:1168: UserWarning: Issues encountered while parsing CIF: Some fractional coordinates rounded to ideal values to avoid issues with finite precision.\n",
      "  warnings.warn(\"Issues encountered while parsing CIF: \" + \"\\n\".join(self.warnings))\n",
      "/home/experiences/grades/bellachehab/anaconda3/envs/XRD/lib/python3.10/site-packages/pymatgen/io/cif.py:1168: UserWarning: Issues encountered while parsing CIF: Some fractional coordinates rounded to ideal values to avoid issues with finite precision.\n",
      "  warnings.warn(\"Issues encountered while parsing CIF: \" + \"\\n\".join(self.warnings))\n",
      "/home/experiences/grades/bellachehab/anaconda3/envs/XRD/lib/python3.10/site-packages/pymatgen/io/cif.py:1168: UserWarning: Issues encountered while parsing CIF: Some fractional coordinates rounded to ideal values to avoid issues with finite precision.\n",
      "  warnings.warn(\"Issues encountered while parsing CIF: \" + \"\\n\".join(self.warnings))\n",
      "/home/experiences/grades/bellachehab/anaconda3/envs/XRD/lib/python3.10/site-packages/pymatgen/io/cif.py:1168: UserWarning: Issues encountered while parsing CIF: Some fractional coordinates rounded to ideal values to avoid issues with finite precision.\n",
      "  warnings.warn(\"Issues encountered while parsing CIF: \" + \"\\n\".join(self.warnings))\n",
      "/home/experiences/grades/bellachehab/anaconda3/envs/XRD/lib/python3.10/site-packages/pymatgen/io/cif.py:1168: UserWarning: Issues encountered while parsing CIF: Some fractional coordinates rounded to ideal values to avoid issues with finite precision.\n",
      "  warnings.warn(\"Issues encountered while parsing CIF: \" + \"\\n\".join(self.warnings))\n",
      "/home/experiences/grades/bellachehab/anaconda3/envs/XRD/lib/python3.10/site-packages/pymatgen/io/cif.py:1168: UserWarning: Issues encountered while parsing CIF: Some fractional coordinates rounded to ideal values to avoid issues with finite precision.\n",
      "  warnings.warn(\"Issues encountered while parsing CIF: \" + \"\\n\".join(self.warnings))\n",
      "/home/experiences/grades/bellachehab/anaconda3/envs/XRD/lib/python3.10/site-packages/pymatgen/io/cif.py:1168: UserWarning: Issues encountered while parsing CIF: Some fractional coordinates rounded to ideal values to avoid issues with finite precision.\n",
      "  warnings.warn(\"Issues encountered while parsing CIF: \" + \"\\n\".join(self.warnings))\n",
      "/home/experiences/grades/bellachehab/anaconda3/envs/XRD/lib/python3.10/site-packages/pymatgen/io/cif.py:1168: UserWarning: Issues encountered while parsing CIF: Some fractional coordinates rounded to ideal values to avoid issues with finite precision.\n",
      "  warnings.warn(\"Issues encountered while parsing CIF: \" + \"\\n\".join(self.warnings))\n",
      "/home/experiences/grades/bellachehab/anaconda3/envs/XRD/lib/python3.10/site-packages/pymatgen/io/cif.py:1168: UserWarning: Issues encountered while parsing CIF: Some fractional coordinates rounded to ideal values to avoid issues with finite precision.\n",
      "  warnings.warn(\"Issues encountered while parsing CIF: \" + \"\\n\".join(self.warnings))\n",
      "/home/experiences/grades/bellachehab/anaconda3/envs/XRD/lib/python3.10/site-packages/pymatgen/io/cif.py:1168: UserWarning: Issues encountered while parsing CIF: Some fractional coordinates rounded to ideal values to avoid issues with finite precision.\n",
      "  warnings.warn(\"Issues encountered while parsing CIF: \" + \"\\n\".join(self.warnings))\n",
      "/home/experiences/grades/bellachehab/anaconda3/envs/XRD/lib/python3.10/site-packages/pymatgen/io/cif.py:1168: UserWarning: Issues encountered while parsing CIF: Some fractional coordinates rounded to ideal values to avoid issues with finite precision.\n",
      "  warnings.warn(\"Issues encountered while parsing CIF: \" + \"\\n\".join(self.warnings))\n",
      "/home/experiences/grades/bellachehab/anaconda3/envs/XRD/lib/python3.10/site-packages/pymatgen/io/cif.py:1168: UserWarning: Issues encountered while parsing CIF: Some fractional coordinates rounded to ideal values to avoid issues with finite precision.\n",
      "  warnings.warn(\"Issues encountered while parsing CIF: \" + \"\\n\".join(self.warnings))\n",
      "/home/experiences/grades/bellachehab/anaconda3/envs/XRD/lib/python3.10/site-packages/pymatgen/io/cif.py:1168: UserWarning: Issues encountered while parsing CIF: Some fractional coordinates rounded to ideal values to avoid issues with finite precision.\n",
      "  warnings.warn(\"Issues encountered while parsing CIF: \" + \"\\n\".join(self.warnings))\n",
      "/home/experiences/grades/bellachehab/anaconda3/envs/XRD/lib/python3.10/site-packages/pymatgen/io/cif.py:1168: UserWarning: Issues encountered while parsing CIF: Some fractional coordinates rounded to ideal values to avoid issues with finite precision.\n",
      "  warnings.warn(\"Issues encountered while parsing CIF: \" + \"\\n\".join(self.warnings))\n",
      "/home/experiences/grades/bellachehab/anaconda3/envs/XRD/lib/python3.10/site-packages/pymatgen/io/cif.py:1168: UserWarning: Issues encountered while parsing CIF: Some fractional coordinates rounded to ideal values to avoid issues with finite precision.\n",
      "  warnings.warn(\"Issues encountered while parsing CIF: \" + \"\\n\".join(self.warnings))\n",
      "/home/experiences/grades/bellachehab/anaconda3/envs/XRD/lib/python3.10/site-packages/pymatgen/io/cif.py:1168: UserWarning: Issues encountered while parsing CIF: Some fractional coordinates rounded to ideal values to avoid issues with finite precision.\n",
      "  warnings.warn(\"Issues encountered while parsing CIF: \" + \"\\n\".join(self.warnings))\n",
      "/home/experiences/grades/bellachehab/anaconda3/envs/XRD/lib/python3.10/site-packages/pymatgen/io/cif.py:1168: UserWarning: Issues encountered while parsing CIF: Some fractional coordinates rounded to ideal values to avoid issues with finite precision.\n",
      "  warnings.warn(\"Issues encountered while parsing CIF: \" + \"\\n\".join(self.warnings))\n",
      "/home/experiences/grades/bellachehab/anaconda3/envs/XRD/lib/python3.10/site-packages/pymatgen/io/cif.py:1168: UserWarning: Issues encountered while parsing CIF: Some fractional coordinates rounded to ideal values to avoid issues with finite precision.\n",
      "  warnings.warn(\"Issues encountered while parsing CIF: \" + \"\\n\".join(self.warnings))\n",
      "/home/experiences/grades/bellachehab/anaconda3/envs/XRD/lib/python3.10/site-packages/pymatgen/io/cif.py:1168: UserWarning: Issues encountered while parsing CIF: Some fractional coordinates rounded to ideal values to avoid issues with finite precision.\n",
      "  warnings.warn(\"Issues encountered while parsing CIF: \" + \"\\n\".join(self.warnings))\n",
      "/home/experiences/grades/bellachehab/anaconda3/envs/XRD/lib/python3.10/site-packages/pymatgen/io/cif.py:1168: UserWarning: Issues encountered while parsing CIF: Some fractional coordinates rounded to ideal values to avoid issues with finite precision.\n",
      "  warnings.warn(\"Issues encountered while parsing CIF: \" + \"\\n\".join(self.warnings))\n",
      "/home/experiences/grades/bellachehab/anaconda3/envs/XRD/lib/python3.10/site-packages/pymatgen/core/periodic_table.py:221: UserWarning: No Pauling electronegativity for He. Setting to NaN. This has no physical meaning, and is mainly done to avoid errors caused by the code expecting a float.\n",
      "  warnings.warn(\n",
      "/home/experiences/grades/bellachehab/anaconda3/envs/XRD/lib/python3.10/site-packages/pymatgen/core/periodic_table.py:221: UserWarning: No Pauling electronegativity for Ne. Setting to NaN. This has no physical meaning, and is mainly done to avoid errors caused by the code expecting a float.\n",
      "  warnings.warn(\n",
      "/home/experiences/grades/bellachehab/anaconda3/envs/XRD/lib/python3.10/site-packages/pymatgen/core/periodic_table.py:221: UserWarning: No Pauling electronegativity for He. Setting to NaN. This has no physical meaning, and is mainly done to avoid errors caused by the code expecting a float.\n",
      "  warnings.warn(\n",
      "/home/experiences/grades/bellachehab/anaconda3/envs/XRD/lib/python3.10/site-packages/pymatgen/core/periodic_table.py:221: UserWarning: No Pauling electronegativity for Ar. Setting to NaN. This has no physical meaning, and is mainly done to avoid errors caused by the code expecting a float.\n",
      "  warnings.warn(\n",
      "/home/experiences/grades/bellachehab/anaconda3/envs/XRD/lib/python3.10/site-packages/pymatgen/core/periodic_table.py:221: UserWarning: No Pauling electronegativity for Ar. Setting to NaN. This has no physical meaning, and is mainly done to avoid errors caused by the code expecting a float.\n",
      "  warnings.warn(\n",
      "/home/experiences/grades/bellachehab/anaconda3/envs/XRD/lib/python3.10/site-packages/pymatgen/core/periodic_table.py:221: UserWarning: No Pauling electronegativity for He. Setting to NaN. This has no physical meaning, and is mainly done to avoid errors caused by the code expecting a float.\n",
      "  warnings.warn(\n",
      "/home/experiences/grades/bellachehab/anaconda3/envs/XRD/lib/python3.10/site-packages/pymatgen/core/periodic_table.py:221: UserWarning: No Pauling electronegativity for He. Setting to NaN. This has no physical meaning, and is mainly done to avoid errors caused by the code expecting a float.\n",
      "  warnings.warn(\n"
     ]
    }
   ],
   "source": [
    "data = Parallel(n_jobs=64)(delayed(calculate_xrd_from_cif)(f, 5.0, 0.721) for f in files_cif)"
   ],
   "metadata": {
    "collapsed": false,
    "ExecuteTime": {
     "end_time": "2023-08-23T15:33:30.130525810Z",
     "start_time": "2023-08-23T10:23:33.679193270Z"
    }
   },
   "id": "9bc37d2799401a1b"
  },
  {
   "cell_type": "code",
   "execution_count": 111,
   "id": "20032d78cc45e919",
   "metadata": {
    "collapsed": false,
    "tags": [],
    "ExecuteTime": {
     "end_time": "2023-08-23T15:40:55.433969620Z",
     "start_time": "2023-08-23T15:40:52.126697120Z"
    }
   },
   "outputs": [
    {
     "data": {
      "text/plain": "118399"
     },
     "execution_count": 111,
     "metadata": {},
     "output_type": "execute_result"
    }
   ],
   "source": [
    "len(data)"
   ]
  },
  {
   "cell_type": "code",
   "execution_count": null,
   "id": "da8c8221e6393737",
   "metadata": {
    "collapsed": false,
    "tags": [],
    "ExecuteTime": {
     "start_time": "2023-08-23T10:21:56.469863170Z"
    }
   },
   "outputs": [],
   "source": [
    "data[0]"
   ]
  },
  {
   "cell_type": "code",
   "execution_count": 112,
   "outputs": [],
   "source": [
    "pandas_df = pd.DataFrame(data)"
   ],
   "metadata": {
    "collapsed": false,
    "ExecuteTime": {
     "end_time": "2023-08-23T15:41:13.374558780Z",
     "start_time": "2023-08-23T15:41:11.912016630Z"
    }
   },
   "id": "a582e1aed5856fe0"
  },
  {
   "cell_type": "code",
   "execution_count": 113,
   "outputs": [],
   "source": [
    "pandas_df.to_parquet('./data/pow_xrd.parquet')"
   ],
   "metadata": {
    "collapsed": false,
    "ExecuteTime": {
     "end_time": "2023-08-23T15:43:25.803991070Z",
     "start_time": "2023-08-23T15:41:37.954915060Z"
    }
   },
   "id": "27ea251225d8dee7"
  },
  {
   "cell_type": "code",
   "execution_count": 10,
   "id": "75f7aaf7cb184cf",
   "metadata": {
    "ExecuteTime": {
     "end_time": "2023-08-17T20:20:07.779881880Z",
     "start_time": "2023-08-17T20:20:07.722615110Z"
    },
    "collapsed": false,
    "tags": []
   },
   "outputs": [],
   "source": [
    "xrd_pattern = data[0]['XRD Pattern']"
   ]
  },
  {
   "cell_type": "code",
   "execution_count": 11,
   "id": "93904b6348818ddb",
   "metadata": {
    "ExecuteTime": {
     "end_time": "2023-08-17T20:20:07.780624130Z",
     "start_time": "2023-08-17T20:20:07.727420470Z"
    },
    "collapsed": false,
    "tags": []
   },
   "outputs": [
    {
     "data": {
      "text/plain": [
       "(array([12.59040113, 12.59803061, 12.60566009, ..., 88.86232302,\n",
       "        88.8699525 , 88.87758198]),\n",
       " array([61.39281978, 60.61084365, 58.28523111, ...,  4.55978481,\n",
       "         4.73233441,  4.78698316]))"
      ]
     },
     "execution_count": 11,
     "metadata": {},
     "output_type": "execute_result"
    }
   ],
   "source": [
    "xrd_pattern"
   ]
  },
  {
   "cell_type": "code",
   "execution_count": 12,
   "id": "c1040d0efc08e0dd",
   "metadata": {
    "ExecuteTime": {
     "end_time": "2023-08-16T18:30:59.643097540Z",
     "start_time": "2023-08-16T18:30:59.331331720Z"
    },
    "collapsed": false,
    "tags": []
   },
   "outputs": [
    {
     "data": {
      "text/plain": [
       "[<matplotlib.lines.Line2D at 0x7f749237ece0>]"
      ]
     },
     "execution_count": 12,
     "metadata": {},
     "output_type": "execute_result"
    },
    {
     "data": {
      "image/png": "[encoded data removed]",
      "text/plain": [
       "<Figure size 640x480 with 1 Axes>"
      ]
     },
     "metadata": {},
     "output_type": "display_data"
    }
   ],
   "source": [
    "plt.plot(xrd_pattern[0], xrd_pattern[1])"
   ]
  },
  {
   "cell_type": "code",
   "execution_count": 13,
   "id": "3081ce4621ace90c",
   "metadata": {
    "ExecuteTime": {
     "end_time": "2023-08-17T21:34:51.337805640Z",
     "start_time": "2023-08-17T21:34:51.304652630Z"
    },
    "collapsed": false,
    "tags": []
   },
   "outputs": [],
   "source": [
    "from utils import MinMaxScaling"
   ]
  },
  {
   "cell_type": "code",
   "execution_count": 14,
   "id": "7ef5d2894d2bc955",
   "metadata": {
    "ExecuteTime": {
     "end_time": "2023-08-17T21:34:52.864956010Z",
     "start_time": "2023-08-17T21:34:52.811274170Z"
    },
    "collapsed": false,
    "tags": []
   },
   "outputs": [],
   "source": [
    "intensities = MinMaxScaling(xrd_pattern[1])"
   ]
  },
  {
   "cell_type": "code",
   "execution_count": 15,
   "id": "b1c400a16f3267aa",
   "metadata": {
    "ExecuteTime": {
     "end_time": "2023-08-17T21:34:54.026944980Z",
     "start_time": "2023-08-17T21:34:53.717316660Z"
    },
    "collapsed": false,
    "tags": []
   },
   "outputs": [
    {
     "data": {
      "text/plain": [
       "[<matplotlib.lines.Line2D at 0x7f7741e29780>]"
      ]
     },
     "execution_count": 15,
     "metadata": {},
     "output_type": "execute_result"
    },
    {
     "data": {
      "image/png": "[encoded data removed]",
      "text/plain": [
       "<Figure size 640x480 with 1 Axes>"
      ]
     },
     "metadata": {},
     "output_type": "display_data"
    }
   ],
   "source": [
    "plt.plot(xrd_pattern[0], intensities)"
   ]
  },
  {
   "cell_type": "code",
   "execution_count": 16,
   "id": "1947aab0407333b0",
   "metadata": {
    "ExecuteTime": {
     "end_time": "2023-08-18T07:58:55.777445460Z",
     "start_time": "2023-08-18T07:58:55.712168520Z"
    },
    "collapsed": false,
    "tags": []
   },
   "outputs": [],
   "source": [
    "def transform_signal(signal):\n",
    "    xrd_pattern = signal['XRD Pattern']\n",
    "    intensites = MinMaxScaling(xrd_pattern[1])\n",
    "    angles = xrd_pattern[0]\n",
    "    signal['XRD Pattern'] = (angles, intensites)\n",
    "    return signal"
   ]
  },
  {
   "cell_type": "code",
   "execution_count": 17,
   "id": "850a72521a33bb13",
   "metadata": {
    "ExecuteTime": {
     "end_time": "2023-08-18T08:05:44.659150610Z",
     "start_time": "2023-08-18T07:58:57.416285180Z"
    },
    "collapsed": false,
    "tags": []
   },
   "outputs": [],
   "source": [
    "data = [transform_signal(signal) for signal in data]"
   ]
  },
  {
   "cell_type": "code",
   "execution_count": 18,
   "id": "3e03de660886c209",
   "metadata": {
    "ExecuteTime": {
     "end_time": "2023-08-18T08:06:56.935526790Z",
     "start_time": "2023-08-18T08:06:56.815459480Z"
    },
    "collapsed": false,
    "tags": []
   },
   "outputs": [],
   "source": [
    "df = pd.DataFrame(data)"
   ]
  },
  {
   "cell_type": "code",
   "execution_count": 19,
   "id": "cdce709b770b612d",
   "metadata": {
    "ExecuteTime": {
     "end_time": "2023-08-18T08:06:58.154444740Z",
     "start_time": "2023-08-18T08:06:58.085109910Z"
    },
    "collapsed": false,
    "tags": []
   },
   "outputs": [
    {
     "data": {
      "text/html": [
       "<div>\n",
       "<style scoped>\n",
       "    .dataframe tbody tr th:only-of-type {\n",
       "        vertical-align: middle;\n",
       "    }\n",
       "\n",
       "    .dataframe tbody tr th {\n",
       "        vertical-align: top;\n",
       "    }\n",
       "\n",
       "    .dataframe thead th {\n",
       "        text-align: right;\n",
       "    }\n",
       "</style>\n",
       "<table border=\"1\" class=\"dataframe\">\n",
       "  <thead>\n",
       "    <tr style=\"text-align: right;\">\n",
       "      <th></th>\n",
       "      <th>XRD Pattern</th>\n",
       "      <th>Space Group</th>\n",
       "    </tr>\n",
       "  </thead>\n",
       "  <tbody>\n",
       "    <tr>\n",
       "      <th>0</th>\n",
       "      <td>([12.590401131833666, 12.598030612866806, 12.6...</td>\n",
       "      <td>P6_3/mmc</td>\n",
       "    </tr>\n",
       "    <tr>\n",
       "      <th>1</th>\n",
       "      <td>([13.473811722436789, 13.48141264792502, 13.48...</td>\n",
       "      <td>Fm-3m</td>\n",
       "    </tr>\n",
       "    <tr>\n",
       "      <th>2</th>\n",
       "      <td>([13.787045712841245, 13.794550876833762, 13.8...</td>\n",
       "      <td>Im-3m</td>\n",
       "    </tr>\n",
       "    <tr>\n",
       "      <th>3</th>\n",
       "      <td>([3.8064543216899196, 3.8150745119469893, 3.82...</td>\n",
       "      <td>I4cm</td>\n",
       "    </tr>\n",
       "    <tr>\n",
       "      <th>4</th>\n",
       "      <td>([5.048069571619445, 5.056554943450839, 5.0650...</td>\n",
       "      <td>F-43m</td>\n",
       "    </tr>\n",
       "  </tbody>\n",
       "</table>\n",
       "</div>"
      ],
      "text/plain": [
       "                                         XRD Pattern Space Group\n",
       "0  ([12.590401131833666, 12.598030612866806, 12.6...    P6_3/mmc\n",
       "1  ([13.473811722436789, 13.48141264792502, 13.48...       Fm-3m\n",
       "2  ([13.787045712841245, 13.794550876833762, 13.8...       Im-3m\n",
       "3  ([3.8064543216899196, 3.8150745119469893, 3.82...        I4cm\n",
       "4  ([5.048069571619445, 5.056554943450839, 5.0650...       F-43m"
      ]
     },
     "execution_count": 19,
     "metadata": {},
     "output_type": "execute_result"
    }
   ],
   "source": [
    "df.head()"
   ]
  },
  {
   "cell_type": "code",
   "execution_count": 20,
   "id": "fab44a71dd3bf16c",
   "metadata": {
    "ExecuteTime": {
     "start_time": "2023-08-18T08:09:52.318253440Z"
    },
    "collapsed": false,
    "tags": []
   },
   "outputs": [],
   "source": [
    "df.to_parquet(\"./data/pow_xrd3.parquet\", engine=\"pyarrow\")"
   ]
  },
  {
   "cell_type": "code",
   "execution_count": 21,
   "id": "833243ad19b431e1",
   "metadata": {
    "ExecuteTime": {
     "end_time": "2023-08-18T08:09:58.094963520Z",
     "start_time": "2023-08-18T08:09:58.054024150Z"
    },
    "collapsed": false,
    "tags": []
   },
   "outputs": [
    {
     "data": {
      "text/html": [
       "<div>\n",
       "<style scoped>\n",
       "    .dataframe tbody tr th:only-of-type {\n",
       "        vertical-align: middle;\n",
       "    }\n",
       "\n",
       "    .dataframe tbody tr th {\n",
       "        vertical-align: top;\n",
       "    }\n",
       "\n",
       "    .dataframe thead th {\n",
       "        text-align: right;\n",
       "    }\n",
       "</style>\n",
       "<table border=\"1\" class=\"dataframe\">\n",
       "  <thead>\n",
       "    <tr style=\"text-align: right;\">\n",
       "      <th></th>\n",
       "      <th>XRD Pattern</th>\n",
       "      <th>Space Group</th>\n",
       "    </tr>\n",
       "  </thead>\n",
       "  <tbody>\n",
       "    <tr>\n",
       "      <th>0</th>\n",
       "      <td>([12.590401131833666, 12.598030612866806, 12.6...</td>\n",
       "      <td>P6_3/mmc</td>\n",
       "    </tr>\n",
       "    <tr>\n",
       "      <th>1</th>\n",
       "      <td>([13.473811722436789, 13.48141264792502, 13.48...</td>\n",
       "      <td>Fm-3m</td>\n",
       "    </tr>\n",
       "    <tr>\n",
       "      <th>2</th>\n",
       "      <td>([13.787045712841245, 13.794550876833762, 13.8...</td>\n",
       "      <td>Im-3m</td>\n",
       "    </tr>\n",
       "    <tr>\n",
       "      <th>3</th>\n",
       "      <td>([3.8064543216899196, 3.8150745119469893, 3.82...</td>\n",
       "      <td>I4cm</td>\n",
       "    </tr>\n",
       "    <tr>\n",
       "      <th>4</th>\n",
       "      <td>([5.048069571619445, 5.056554943450839, 5.0650...</td>\n",
       "      <td>F-43m</td>\n",
       "    </tr>\n",
       "  </tbody>\n",
       "</table>\n",
       "</div>"
      ],
      "text/plain": [
       "                                         XRD Pattern Space Group\n",
       "0  ([12.590401131833666, 12.598030612866806, 12.6...    P6_3/mmc\n",
       "1  ([13.473811722436789, 13.48141264792502, 13.48...       Fm-3m\n",
       "2  ([13.787045712841245, 13.794550876833762, 13.8...       Im-3m\n",
       "3  ([3.8064543216899196, 3.8150745119469893, 3.82...        I4cm\n",
       "4  ([5.048069571619445, 5.056554943450839, 5.0650...       F-43m"
      ]
     },
     "execution_count": 21,
     "metadata": {},
     "output_type": "execute_result"
    }
   ],
   "source": [
    "df.head()"
   ]
  },
  {
   "cell_type": "code",
   "execution_count": null,
   "id": "c0dc4af122695499",
   "metadata": {
    "ExecuteTime": {
     "end_time": "2023-08-18T08:10:03.809738300Z",
     "start_time": "2023-08-18T08:10:03.774260380Z"
    },
    "collapsed": false
   },
   "outputs": [],
   "source": []
  },
  {
   "cell_type": "code",
   "execution_count": 22,
   "id": "5a18f68f7ec1df1e",
   "metadata": {
    "ExecuteTime": {
     "end_time": "2023-08-18T08:10:04.765361540Z",
     "start_time": "2023-08-18T08:10:04.733721340Z"
    },
    "collapsed": false,
    "tags": []
   },
   "outputs": [],
   "source": [
    "import numpy as np\n",
    "import pandas as pd\n",
    "import torch\n",
    "from torch.utils.data import Dataset\n",
    "from pymatgen.symmetry.groups import SpaceGroup"
   ]
  },
  {
   "cell_type": "code",
   "execution_count": 71,
   "id": "2c655ba758fb563c",
   "metadata": {
    "ExecuteTime": {
     "end_time": "2023-08-18T08:10:13.461160480Z",
     "start_time": "2023-08-18T08:10:13.411971960Z"
    },
    "collapsed": false,
    "tags": []
   },
   "outputs": [],
   "source": [
    "class XRDPatternDataset(Dataset):\n",
    "    \"\"\"Class that generates the XRD pattern, the angles, the intensity and the space group to be predicted\"\"\"\n",
    "    def __init__(self, df_xrd, device):\n",
    "        \"\"\"Constructor of the class\n",
    "            Args:\n",
    "                - xrd_file : Parquet file containing all the data\n",
    "                - space_group_mapping : dictionary with the space groups as values\n",
    "        \"\"\"\n",
    "        self.dataframe = df_xrd\n",
    "        space_groups = self.dataframe[\"Space Group\"].unique().tolist()\n",
    "        space_group_mapping = {}\n",
    "        for i, group in enumerate(space_groups):\n",
    "            space_group_mapping[group] = i+1\n",
    "        self.space_group_mapping = space_group_mapping\n",
    "        self.nb_space_group = len(space_group_mapping)\n",
    "        self.device = device\n",
    "\n",
    "    def __len__(self):\n",
    "        \"\"\"Returns the size of the dataframe (number of rows)\"\"\"\n",
    "        return len(self.dataframe)\n",
    "\n",
    "    def __getitem__(self, idx):\n",
    "        \"\"\"Returns the information at row idx\n",
    "            Args:\n",
    "                - idx (int) : index where to get information\n",
    "            Returns:\n",
    "                - angles, intensities and space_group tensors\n",
    "        \"\"\"\n",
    "        xrd_pattern = self.dataframe.iloc[idx, 0]\n",
    "        intensities = np.array(xrd_pattern[0], dtype=float)\n",
    "        angles = np.array(xrd_pattern[1], dtype=float)\n",
    "        intensities = torch.tensor(intensities, dtype=torch.float32).to(self.device)\n",
    "        angles = torch.tensor(angles, dtype=torch.float32).to(self.device)\n",
    "        space_group = torch.tensor(self.space_group_mapping[self.dataframe.iloc[idx, 1]], dtype=torch.long).to(self.device)\n",
    "        return angles, intensities, space_group"
   ]
  },
  {
   "cell_type": "code",
   "execution_count": 72,
   "id": "bf8d0fe5ed902a95",
   "metadata": {
    "ExecuteTime": {
     "end_time": "2023-08-17T12:19:03.192803480Z",
     "start_time": "2023-08-17T12:19:03.161518140Z"
    },
    "collapsed": false,
    "tags": []
   },
   "outputs": [],
   "source": [
    "#from dataset import XRDPatternDataset"
   ]
  },
  {
   "cell_type": "code",
   "execution_count": 73,
   "id": "bf45b217c206d095",
   "metadata": {
    "ExecuteTime": {
     "end_time": "2023-08-18T08:10:19.935176760Z",
     "start_time": "2023-08-18T08:10:19.905736620Z"
    },
    "collapsed": false,
    "tags": []
   },
   "outputs": [],
   "source": [
    "xrd = XRDPatternDataset(df, device)"
   ]
  },
  {
   "cell_type": "code",
   "execution_count": 74,
   "id": "54ebebe5ee7cec8f",
   "metadata": {
    "ExecuteTime": {
     "end_time": "2023-08-18T08:10:30.088607130Z",
     "start_time": "2023-08-18T08:10:30.030557690Z"
    },
    "collapsed": false,
    "tags": []
   },
   "outputs": [
    {
     "data": {
      "text/plain": [
       "(tensor([0.0086, 0.0085, 0.0081,  ..., 0.0032, 0.0031, 0.0029], device='cuda:0'),\n",
       " tensor([ 4.8519,  4.8604,  4.8690,  ..., 89.9658, 89.9743, 89.9828],\n",
       "        device='cuda:0'),\n",
       " tensor(10, device='cuda:0'))"
      ]
     },
     "execution_count": 74,
     "metadata": {},
     "output_type": "execute_result"
    }
   ],
   "source": [
    "xrd[10]"
   ]
  },
  {
   "cell_type": "code",
   "execution_count": 75,
   "id": "84adecbefb995136",
   "metadata": {
    "ExecuteTime": {
     "end_time": "2023-08-18T08:10:36.170123960Z",
     "start_time": "2023-08-18T08:10:36.126569360Z"
    },
    "collapsed": false,
    "tags": []
   },
   "outputs": [
    {
     "name": "stdout",
     "output_type": "stream",
     "text": [
      "number of space groups: 224\n"
     ]
    }
   ],
   "source": [
    "nb_space_groups = xrd.nb_space_group\n",
    "print(\"number of space groups:\", nb_space_groups)"
   ]
  },
  {
   "cell_type": "code",
   "execution_count": 76,
   "id": "bfc474a9aca71854",
   "metadata": {
    "ExecuteTime": {
     "end_time": "2023-08-18T08:10:44.098229880Z",
     "start_time": "2023-08-18T08:10:44.030037900Z"
    },
    "collapsed": false,
    "tags": []
   },
   "outputs": [],
   "source": [
    "from torch.utils.data import random_split, DataLoader"
   ]
  },
  {
   "cell_type": "code",
   "execution_count": 77,
   "id": "b9d07301c263c677",
   "metadata": {
    "ExecuteTime": {
     "end_time": "2023-08-18T08:10:46.675455070Z",
     "start_time": "2023-08-18T08:10:46.607741910Z"
    },
    "collapsed": false,
    "tags": []
   },
   "outputs": [],
   "source": [
    "trainset, testset = random_split(xrd, [0.75, 0.25])"
   ]
  },
  {
   "cell_type": "code",
   "execution_count": null,
   "id": "e581174a4eb3c413",
   "metadata": {
    "ExecuteTime": {
     "end_time": "2023-08-18T08:10:48.241012400Z",
     "start_time": "2023-08-18T08:10:48.207828420Z"
    },
    "collapsed": false
   },
   "outputs": [],
   "source": []
  },
  {
   "cell_type": "code",
   "execution_count": 78,
   "id": "342489c92e4a36da",
   "metadata": {
    "ExecuteTime": {
     "end_time": "2023-08-18T08:10:49.262474620Z",
     "start_time": "2023-08-18T08:10:49.235894550Z"
    },
    "collapsed": false,
    "tags": []
   },
   "outputs": [],
   "source": [
    "batch_size = 16"
   ]
  },
  {
   "cell_type": "code",
   "execution_count": 79,
   "id": "f3a426b50814b8b7",
   "metadata": {
    "ExecuteTime": {
     "end_time": "2023-08-18T08:10:51.807976790Z",
     "start_time": "2023-08-18T08:10:51.781586410Z"
    },
    "collapsed": false,
    "tags": []
   },
   "outputs": [],
   "source": [
    "trainloader = DataLoader(trainset, batch_size=batch_size)\n",
    "testloader = DataLoader(testset, batch_size=batch_size)"
   ]
  },
  {
   "cell_type": "markdown",
   "id": "975faf5b27b5d530",
   "metadata": {},
   "source": []
  },
  {
   "cell_type": "code",
   "execution_count": 80,
   "id": "8949d203fceac9c8",
   "metadata": {
    "ExecuteTime": {
     "end_time": "2023-08-18T08:10:58.184961650Z",
     "start_time": "2023-08-18T08:10:58.176215200Z"
    },
    "collapsed": false,
    "tags": []
   },
   "outputs": [],
   "source": [
    "import torch\n",
    "device = torch.device('cuda' if torch.cuda.is_available() else 'cpu')"
   ]
  },
  {
   "cell_type": "code",
   "execution_count": null,
   "id": "7118e5d8-49b1-4aa1-bdfb-a2827ba731ba",
   "metadata": {},
   "outputs": [],
   "source": []
  },
  {
   "cell_type": "code",
   "execution_count": null,
   "id": "323976c3-37e4-46fb-9582-6b15373bea72",
   "metadata": {
    "tags": []
   },
   "outputs": [],
   "source": []
  },
  {
   "cell_type": "code",
   "execution_count": 81,
   "id": "b0360516-0984-4dd3-927b-1d4388e3a06c",
   "metadata": {
    "ExecuteTime": {
     "end_time": "2023-08-18T08:10:59.035335850Z",
     "start_time": "2023-08-18T08:10:59.004481310Z"
    },
    "tags": []
   },
   "outputs": [],
   "source": [
    "from torch import optim "
   ]
  },
  {
   "cell_type": "code",
   "execution_count": 89,
   "id": "41c8aa2a0d80f436",
   "metadata": {
    "ExecuteTime": {
     "end_time": "2023-08-18T08:14:45.797583280Z",
     "start_time": "2023-08-18T08:14:45.756265610Z"
    },
    "collapsed": false,
    "tags": []
   },
   "outputs": [],
   "source": [
    "### Next step : train the model on data to ensure that it works fine\n",
    "def train(train_loader, cnn, learning_rate, num_epochs, device):\n",
    "    \"\"\"Trains the CNN on training data\"\"\"\n",
    "    optimizer = optim.Adam(cnn.parameters(), lr=learning_rate)\n",
    "    criterion = nn.CrossEntropyLoss().to(device)\n",
    "\n",
    "    print(\"Begin training :\")\n",
    "    for epoch in range(num_epochs):\n",
    "        running_loss = 0.0\n",
    "        print(\"epoch: \", epoch)\n",
    "\n",
    "        # For each batch in the loader\n",
    "        for angles, inputs, labels in train_loader:\n",
    "            # Set the gradients back to 0\n",
    "            optimizer.zero_grad()\n",
    "\n",
    "            # Apply the model\n",
    "            outputs = cnn(torch.unsqueeze(inputs, 1))\n",
    "\n",
    "            # Compare between the outputs from the CNN and the labels\n",
    "            loss = criterion(outputs, labels)\n",
    "\n",
    "            # Compute the gradients\n",
    "            loss.backward()\n",
    "\n",
    "            # Performs a single optimization step (parameter update)\n",
    "            optimizer.step()\n",
    "            print(\"item\", loss.item())\n",
    "\n",
    "            running_loss += loss.item()\n",
    "\n",
    "        # Print the average loss for one epoch\n",
    "        epoch_loss = running_loss / len(train_loader)\n",
    "        print(f\"Epoch {epoch + 1}/{num_epochs}, Loss: {epoch_loss:.4f}\")\n",
    "\n",
    "    print(\"Finished training !\")"
   ]
  },
  {
   "cell_type": "code",
   "execution_count": 83,
   "id": "5b6dd2d5-32ad-4d34-83ba-f02db6d0c588",
   "metadata": {
    "ExecuteTime": {
     "end_time": "2023-08-18T08:11:09.089555730Z",
     "start_time": "2023-08-18T08:11:09.043197720Z"
    },
    "tags": []
   },
   "outputs": [],
   "source": [
    "def compute_accuracy(test_loader, cnn, num_epochs, device):\n",
    "    \"\"\"Compute the accuracy of the model\n",
    "        Args:\n",
    "        - test_loader : data that can be loaded in batches\n",
    "        - cnn : the cnn model\n",
    "        - num_epochs : number of iterations\n",
    "    \"\"\"\n",
    "    for epoch in range(num_epochs):\n",
    "        accuracy = 0\n",
    "        count = 0\n",
    "        for angles, inputs, labels in test_loader:\n",
    "            inputs = inputs.to(device).float()\n",
    "            labels = labels.to(device).float()\n",
    "            y_pred = cnn(torch.unsqueeze(inputs, 1))\n",
    "            accuracy += (torch.argmax(y_pred, dim=1) == labels).float().sum()\n",
    "            count += len(labels)\n",
    "        accuracy /= count\n",
    "        print(\"Epoch %d: model accuracy %.2f%%\" % (epoch, accuracy * 100))"
   ]
  },
  {
   "cell_type": "code",
   "execution_count": 84,
   "id": "28d4b2adac103c33",
   "metadata": {
    "ExecuteTime": {
     "end_time": "2023-08-18T08:11:22.342914840Z",
     "start_time": "2023-08-18T08:11:22.298779760Z"
    },
    "collapsed": false,
    "tags": []
   },
   "outputs": [],
   "source": [
    "import torch.nn as nn\n",
    "\n",
    "class ConvNN(nn.Module):\n",
    "    \n",
    "    def __init__(self):\n",
    "        super(ConvNN, self).__init__()\n",
    "        \n",
    "        # Convolutional layers\n",
    "        self.conv_layers = nn.Sequential(\n",
    "            nn.Conv1d(in_channels=1, out_channels=80, kernel_size=100, stride=5, padding=(100-1)//2),\n",
    "            nn.ReLU(),\n",
    "            nn.Dropout(0.3),\n",
    "            nn.AvgPool1d(kernel_size=3, stride=2),\n",
    "\n",
    "            nn.Conv1d(in_channels=80, out_channels=80, kernel_size=50, stride=5, padding=(50-1)//2),\n",
    "            nn.ReLU(),\n",
    "            nn.Dropout(0.3),\n",
    "            nn.AvgPool1d(kernel_size=3),\n",
    "\n",
    "            nn.Conv1d(in_channels=80, out_channels=80, kernel_size=25, stride=2, padding=(25-1)//2),\n",
    "            nn.ReLU(),\n",
    "            nn.Dropout(0.3),\n",
    "            nn.AvgPool1d(kernel_size=3)\n",
    "        )\n",
    "\n",
    "        def _vector_size(input_shape):\n",
    "            \"\"\"Compute the size of the flattened vector after the convolutional layers.\"\"\"\n",
    "            # Create a dummy input with the given input shape\n",
    "            dummy_input = torch.randn(1, *input_shape)\n",
    "\n",
    "            # Pass the dummy input through the convolutional layers\n",
    "            output = self.conv_layers(dummy_input)\n",
    "\n",
    "            # Return the size of the flattened vector\n",
    "            return int(output.numel())\n",
    "\n",
    "        self.flattened_size = _vector_size((1, 10000))\n",
    "\n",
    "        # Fully connected layers\n",
    "        self.fc_layers = nn.Sequential(\n",
    "            nn.Flatten(),\n",
    "            nn.Linear(self.flattened_size, 2300),  # The size 312 might need adjustment depending on the exact output shape after pooling\n",
    "            nn.ReLU(),\n",
    "            nn.Dropout(0.5),\n",
    "            nn.Linear(2300, 1150),\n",
    "            nn.ReLU(),\n",
    "            nn.Dropout(0.5),\n",
    "            nn.Linear(1150, nb_space_groups),\n",
    "            nn.Softmax(dim=1)\n",
    "        )\n",
    "\n",
    "    def forward(self, x):\n",
    "        x = self.conv_layers(x)\n",
    "        x = self.fc_layers(x)\n",
    "        return x\n"
   ]
  },
  {
   "cell_type": "code",
   "execution_count": 85,
   "id": "20bd2dd31f3b7417",
   "metadata": {
    "ExecuteTime": {
     "end_time": "2023-08-18T08:11:25.378574500Z",
     "start_time": "2023-08-18T08:11:24.301192020Z"
    },
    "collapsed": false,
    "tags": []
   },
   "outputs": [],
   "source": [
    "model = ConvNN()\n",
    "model = model.to(device)"
   ]
  },
  {
   "cell_type": "code",
   "execution_count": 86,
   "id": "4b53c7b352bc9cda",
   "metadata": {
    "ExecuteTime": {
     "end_time": "2023-08-18T08:11:30.675102940Z",
     "start_time": "2023-08-18T08:11:30.642041250Z"
    },
    "collapsed": false,
    "tags": []
   },
   "outputs": [],
   "source": [
    "num_epochs = 10\n",
    "learning_rate = 0.01"
   ]
  },
  {
   "cell_type": "code",
   "execution_count": null,
   "id": "17817476344ef37c",
   "metadata": {
    "ExecuteTime": {
     "end_time": "2023-08-18T08:11:31.991544400Z",
     "start_time": "2023-08-18T08:11:31.949193250Z"
    },
    "collapsed": false
   },
   "outputs": [],
   "source": []
  },
  {
   "cell_type": "code",
   "execution_count": 90,
   "id": "7eed43d1b3f203fd",
   "metadata": {
    "ExecuteTime": {
     "end_time": "2023-08-18T08:13:03.817070470Z",
     "start_time": "2023-08-18T08:13:03.748579560Z"
    },
    "collapsed": false,
    "tags": []
   },
   "outputs": [],
   "source": [
    "import os\n",
    "os.environ['CUDA_LAUNCH_BLOCKING'] = \"1\"\n",
    "os.environ['TORCH_USE_CUDA_DSA'] = \"1\""
   ]
  },
  {
   "cell_type": "code",
   "execution_count": 91,
   "id": "84d7f4b3d16efb1d",
   "metadata": {
    "ExecuteTime": {
     "end_time": "2023-08-18T08:14:56.361302690Z",
     "start_time": "2023-08-18T08:14:55.747647140Z"
    },
    "collapsed": false,
    "tags": []
   },
   "outputs": [
    {
     "name": "stdout",
     "output_type": "stream",
     "text": [
      "Begin training :\n",
      "epoch:  0\n"
     ]
    },
    {
     "ename": "RuntimeError",
     "evalue": "CUDA error: device-side assert triggered\nCompile with `TORCH_USE_CUDA_DSA` to enable device-side assertions.\n",
     "output_type": "error",
     "traceback": [
      "\u001B[0;31m---------------------------------------------------------------------------\u001B[0m",
      "\u001B[0;31mRuntimeError\u001B[0m                              Traceback (most recent call last)",
      "Cell \u001B[0;32mIn[91], line 1\u001B[0m\n\u001B[0;32m----> 1\u001B[0m \u001B[43mtrain\u001B[49m\u001B[43m(\u001B[49m\u001B[43mtrainloader\u001B[49m\u001B[43m,\u001B[49m\u001B[43m \u001B[49m\u001B[43mmodel\u001B[49m\u001B[43m,\u001B[49m\u001B[43m \u001B[49m\u001B[43mlearning_rate\u001B[49m\u001B[43m,\u001B[49m\u001B[43m \u001B[49m\u001B[43mnum_epochs\u001B[49m\u001B[43m,\u001B[49m\u001B[43m \u001B[49m\u001B[43mdevice\u001B[49m\u001B[43m)\u001B[49m\n",
      "Cell \u001B[0;32mIn[89], line 13\u001B[0m, in \u001B[0;36mtrain\u001B[0;34m(train_loader, cnn, learning_rate, num_epochs, device)\u001B[0m\n\u001B[1;32m     10\u001B[0m \u001B[38;5;28mprint\u001B[39m(\u001B[38;5;124m\"\u001B[39m\u001B[38;5;124mepoch: \u001B[39m\u001B[38;5;124m\"\u001B[39m, epoch)\n\u001B[1;32m     12\u001B[0m \u001B[38;5;66;03m# For each batch in the loader\u001B[39;00m\n\u001B[0;32m---> 13\u001B[0m \u001B[38;5;28;01mfor\u001B[39;00m angles, inputs, labels \u001B[38;5;129;01min\u001B[39;00m train_loader:\n\u001B[1;32m     14\u001B[0m     \u001B[38;5;66;03m# Set the gradients back to 0\u001B[39;00m\n\u001B[1;32m     15\u001B[0m     optimizer\u001B[38;5;241m.\u001B[39mzero_grad()\n\u001B[1;32m     17\u001B[0m     \u001B[38;5;66;03m# Apply the model\u001B[39;00m\n",
      "File \u001B[0;32m~/anaconda3/envs/XRD/lib/python3.10/site-packages/torch/utils/data/dataloader.py:633\u001B[0m, in \u001B[0;36m_BaseDataLoaderIter.__next__\u001B[0;34m(self)\u001B[0m\n\u001B[1;32m    630\u001B[0m \u001B[38;5;28;01mif\u001B[39;00m \u001B[38;5;28mself\u001B[39m\u001B[38;5;241m.\u001B[39m_sampler_iter \u001B[38;5;129;01mis\u001B[39;00m \u001B[38;5;28;01mNone\u001B[39;00m:\n\u001B[1;32m    631\u001B[0m     \u001B[38;5;66;03m# TODO(https://github.com/pytorch/pytorch/issues/76750)\u001B[39;00m\n\u001B[1;32m    632\u001B[0m     \u001B[38;5;28mself\u001B[39m\u001B[38;5;241m.\u001B[39m_reset()  \u001B[38;5;66;03m# type: ignore[call-arg]\u001B[39;00m\n\u001B[0;32m--> 633\u001B[0m data \u001B[38;5;241m=\u001B[39m \u001B[38;5;28;43mself\u001B[39;49m\u001B[38;5;241;43m.\u001B[39;49m\u001B[43m_next_data\u001B[49m\u001B[43m(\u001B[49m\u001B[43m)\u001B[49m\n\u001B[1;32m    634\u001B[0m \u001B[38;5;28mself\u001B[39m\u001B[38;5;241m.\u001B[39m_num_yielded \u001B[38;5;241m+\u001B[39m\u001B[38;5;241m=\u001B[39m \u001B[38;5;241m1\u001B[39m\n\u001B[1;32m    635\u001B[0m \u001B[38;5;28;01mif\u001B[39;00m \u001B[38;5;28mself\u001B[39m\u001B[38;5;241m.\u001B[39m_dataset_kind \u001B[38;5;241m==\u001B[39m _DatasetKind\u001B[38;5;241m.\u001B[39mIterable \u001B[38;5;129;01mand\u001B[39;00m \\\n\u001B[1;32m    636\u001B[0m         \u001B[38;5;28mself\u001B[39m\u001B[38;5;241m.\u001B[39m_IterableDataset_len_called \u001B[38;5;129;01mis\u001B[39;00m \u001B[38;5;129;01mnot\u001B[39;00m \u001B[38;5;28;01mNone\u001B[39;00m \u001B[38;5;129;01mand\u001B[39;00m \\\n\u001B[1;32m    637\u001B[0m         \u001B[38;5;28mself\u001B[39m\u001B[38;5;241m.\u001B[39m_num_yielded \u001B[38;5;241m>\u001B[39m \u001B[38;5;28mself\u001B[39m\u001B[38;5;241m.\u001B[39m_IterableDataset_len_called:\n",
      "File \u001B[0;32m~/anaconda3/envs/XRD/lib/python3.10/site-packages/torch/utils/data/dataloader.py:677\u001B[0m, in \u001B[0;36m_SingleProcessDataLoaderIter._next_data\u001B[0;34m(self)\u001B[0m\n\u001B[1;32m    675\u001B[0m \u001B[38;5;28;01mdef\u001B[39;00m \u001B[38;5;21m_next_data\u001B[39m(\u001B[38;5;28mself\u001B[39m):\n\u001B[1;32m    676\u001B[0m     index \u001B[38;5;241m=\u001B[39m \u001B[38;5;28mself\u001B[39m\u001B[38;5;241m.\u001B[39m_next_index()  \u001B[38;5;66;03m# may raise StopIteration\u001B[39;00m\n\u001B[0;32m--> 677\u001B[0m     data \u001B[38;5;241m=\u001B[39m \u001B[38;5;28;43mself\u001B[39;49m\u001B[38;5;241;43m.\u001B[39;49m\u001B[43m_dataset_fetcher\u001B[49m\u001B[38;5;241;43m.\u001B[39;49m\u001B[43mfetch\u001B[49m\u001B[43m(\u001B[49m\u001B[43mindex\u001B[49m\u001B[43m)\u001B[49m  \u001B[38;5;66;03m# may raise StopIteration\u001B[39;00m\n\u001B[1;32m    678\u001B[0m     \u001B[38;5;28;01mif\u001B[39;00m \u001B[38;5;28mself\u001B[39m\u001B[38;5;241m.\u001B[39m_pin_memory:\n\u001B[1;32m    679\u001B[0m         data \u001B[38;5;241m=\u001B[39m _utils\u001B[38;5;241m.\u001B[39mpin_memory\u001B[38;5;241m.\u001B[39mpin_memory(data, \u001B[38;5;28mself\u001B[39m\u001B[38;5;241m.\u001B[39m_pin_memory_device)\n",
      "File \u001B[0;32m~/anaconda3/envs/XRD/lib/python3.10/site-packages/torch/utils/data/_utils/fetch.py:51\u001B[0m, in \u001B[0;36m_MapDatasetFetcher.fetch\u001B[0;34m(self, possibly_batched_index)\u001B[0m\n\u001B[1;32m     49\u001B[0m         data \u001B[38;5;241m=\u001B[39m \u001B[38;5;28mself\u001B[39m\u001B[38;5;241m.\u001B[39mdataset\u001B[38;5;241m.\u001B[39m__getitems__(possibly_batched_index)\n\u001B[1;32m     50\u001B[0m     \u001B[38;5;28;01melse\u001B[39;00m:\n\u001B[0;32m---> 51\u001B[0m         data \u001B[38;5;241m=\u001B[39m [\u001B[38;5;28mself\u001B[39m\u001B[38;5;241m.\u001B[39mdataset[idx] \u001B[38;5;28;01mfor\u001B[39;00m idx \u001B[38;5;129;01min\u001B[39;00m possibly_batched_index]\n\u001B[1;32m     52\u001B[0m \u001B[38;5;28;01melse\u001B[39;00m:\n\u001B[1;32m     53\u001B[0m     data \u001B[38;5;241m=\u001B[39m \u001B[38;5;28mself\u001B[39m\u001B[38;5;241m.\u001B[39mdataset[possibly_batched_index]\n",
      "File \u001B[0;32m~/anaconda3/envs/XRD/lib/python3.10/site-packages/torch/utils/data/_utils/fetch.py:51\u001B[0m, in \u001B[0;36m<listcomp>\u001B[0;34m(.0)\u001B[0m\n\u001B[1;32m     49\u001B[0m         data \u001B[38;5;241m=\u001B[39m \u001B[38;5;28mself\u001B[39m\u001B[38;5;241m.\u001B[39mdataset\u001B[38;5;241m.\u001B[39m__getitems__(possibly_batched_index)\n\u001B[1;32m     50\u001B[0m     \u001B[38;5;28;01melse\u001B[39;00m:\n\u001B[0;32m---> 51\u001B[0m         data \u001B[38;5;241m=\u001B[39m [\u001B[38;5;28;43mself\u001B[39;49m\u001B[38;5;241;43m.\u001B[39;49m\u001B[43mdataset\u001B[49m\u001B[43m[\u001B[49m\u001B[43midx\u001B[49m\u001B[43m]\u001B[49m \u001B[38;5;28;01mfor\u001B[39;00m idx \u001B[38;5;129;01min\u001B[39;00m possibly_batched_index]\n\u001B[1;32m     52\u001B[0m \u001B[38;5;28;01melse\u001B[39;00m:\n\u001B[1;32m     53\u001B[0m     data \u001B[38;5;241m=\u001B[39m \u001B[38;5;28mself\u001B[39m\u001B[38;5;241m.\u001B[39mdataset[possibly_batched_index]\n",
      "File \u001B[0;32m~/anaconda3/envs/XRD/lib/python3.10/site-packages/torch/utils/data/dataset.py:298\u001B[0m, in \u001B[0;36mSubset.__getitem__\u001B[0;34m(self, idx)\u001B[0m\n\u001B[1;32m    296\u001B[0m \u001B[38;5;28;01mif\u001B[39;00m \u001B[38;5;28misinstance\u001B[39m(idx, \u001B[38;5;28mlist\u001B[39m):\n\u001B[1;32m    297\u001B[0m     \u001B[38;5;28;01mreturn\u001B[39;00m \u001B[38;5;28mself\u001B[39m\u001B[38;5;241m.\u001B[39mdataset[[\u001B[38;5;28mself\u001B[39m\u001B[38;5;241m.\u001B[39mindices[i] \u001B[38;5;28;01mfor\u001B[39;00m i \u001B[38;5;129;01min\u001B[39;00m idx]]\n\u001B[0;32m--> 298\u001B[0m \u001B[38;5;28;01mreturn\u001B[39;00m \u001B[38;5;28;43mself\u001B[39;49m\u001B[38;5;241;43m.\u001B[39;49m\u001B[43mdataset\u001B[49m\u001B[43m[\u001B[49m\u001B[38;5;28;43mself\u001B[39;49m\u001B[38;5;241;43m.\u001B[39;49m\u001B[43mindices\u001B[49m\u001B[43m[\u001B[49m\u001B[43midx\u001B[49m\u001B[43m]\u001B[49m\u001B[43m]\u001B[49m\n",
      "Cell \u001B[0;32mIn[71], line 32\u001B[0m, in \u001B[0;36mXRDPatternDataset.__getitem__\u001B[0;34m(self, idx)\u001B[0m\n\u001B[1;32m     30\u001B[0m intensities \u001B[38;5;241m=\u001B[39m np\u001B[38;5;241m.\u001B[39marray(xrd_pattern[\u001B[38;5;241m0\u001B[39m], dtype\u001B[38;5;241m=\u001B[39m\u001B[38;5;28mfloat\u001B[39m)\n\u001B[1;32m     31\u001B[0m angles \u001B[38;5;241m=\u001B[39m np\u001B[38;5;241m.\u001B[39marray(xrd_pattern[\u001B[38;5;241m1\u001B[39m], dtype\u001B[38;5;241m=\u001B[39m\u001B[38;5;28mfloat\u001B[39m)\n\u001B[0;32m---> 32\u001B[0m intensities \u001B[38;5;241m=\u001B[39m \u001B[43mtorch\u001B[49m\u001B[38;5;241;43m.\u001B[39;49m\u001B[43mtensor\u001B[49m\u001B[43m(\u001B[49m\u001B[43mintensities\u001B[49m\u001B[43m,\u001B[49m\u001B[43m \u001B[49m\u001B[43mdtype\u001B[49m\u001B[38;5;241;43m=\u001B[39;49m\u001B[43mtorch\u001B[49m\u001B[38;5;241;43m.\u001B[39;49m\u001B[43mfloat32\u001B[49m\u001B[43m)\u001B[49m\u001B[38;5;241;43m.\u001B[39;49m\u001B[43mto\u001B[49m\u001B[43m(\u001B[49m\u001B[38;5;28;43mself\u001B[39;49m\u001B[38;5;241;43m.\u001B[39;49m\u001B[43mdevice\u001B[49m\u001B[43m)\u001B[49m\n\u001B[1;32m     33\u001B[0m angles \u001B[38;5;241m=\u001B[39m torch\u001B[38;5;241m.\u001B[39mtensor(angles, dtype\u001B[38;5;241m=\u001B[39mtorch\u001B[38;5;241m.\u001B[39mfloat32)\u001B[38;5;241m.\u001B[39mto(\u001B[38;5;28mself\u001B[39m\u001B[38;5;241m.\u001B[39mdevice)\n\u001B[1;32m     34\u001B[0m space_group \u001B[38;5;241m=\u001B[39m torch\u001B[38;5;241m.\u001B[39mtensor(\u001B[38;5;28mself\u001B[39m\u001B[38;5;241m.\u001B[39mspace_group_mapping[\u001B[38;5;28mself\u001B[39m\u001B[38;5;241m.\u001B[39mdataframe\u001B[38;5;241m.\u001B[39miloc[idx, \u001B[38;5;241m1\u001B[39m]], dtype\u001B[38;5;241m=\u001B[39mtorch\u001B[38;5;241m.\u001B[39mlong)\u001B[38;5;241m.\u001B[39mto(\u001B[38;5;28mself\u001B[39m\u001B[38;5;241m.\u001B[39mdevice)\n",
      "\u001B[0;31mRuntimeError\u001B[0m: CUDA error: device-side assert triggered\nCompile with `TORCH_USE_CUDA_DSA` to enable device-side assertions.\n"
     ]
    }
   ],
   "source": [
    "train(trainloader, model, learning_rate, num_epochs, device)"
   ]
  },
  {
   "cell_type": "code",
   "execution_count": 48,
   "id": "5cb2169ce5cac0f9",
   "metadata": {
    "ExecuteTime": {
     "end_time": "2023-08-17T15:26:29.841434400Z",
     "start_time": "2023-08-17T15:26:29.812991180Z"
    },
    "collapsed": false
   },
   "outputs": [],
   "source": []
  },
  {
   "cell_type": "code",
   "execution_count": null,
   "id": "42cc5255-4367-4e90-a5c9-28a7908cc2c4",
   "metadata": {},
   "outputs": [],
   "source": []
  },
  {
   "cell_type": "code",
   "execution_count": null,
   "id": "7f64251e-cfaf-44db-b0af-f4e42d5f9f69",
   "metadata": {},
   "outputs": [],
   "source": []
  },
  {
   "cell_type": "code",
   "execution_count": null,
   "id": "47f1b5d221015aae",
   "metadata": {
    "collapsed": false
   },
   "outputs": [],
   "source": []
  }
 ],
 "metadata": {
  "kernelspec": {
   "display_name": "Python 3 (ipykernel)",
   "language": "python",
   "name": "python3"
  },
  "language_info": {
   "codemirror_mode": {
    "name": "ipython",
    "version": 3
   },
   "file_extension": ".py",
   "mimetype": "text/x-python",
   "name": "python",
   "nbconvert_exporter": "python",
   "pygments_lexer": "ipython3",
   "version": "3.10.12"
  }
 },
 "nbformat": 4,
 "nbformat_minor": 5
}
